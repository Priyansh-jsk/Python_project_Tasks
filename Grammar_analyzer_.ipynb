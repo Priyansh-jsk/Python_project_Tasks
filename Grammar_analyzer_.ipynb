{
  "nbformat": 4,
  "nbformat_minor": 0,
  "metadata": {
    "colab": {
      "provenance": []
    },
    "kernelspec": {
      "name": "python3",
      "display_name": "Python 3"
    },
    "language_info": {
      "name": "python"
    }
  },
  "cells": [
    {
      "cell_type": "code",
      "execution_count": 15,
      "metadata": {
        "id": "hwemSIhf3lq8"
      },
      "outputs": [],
      "source": [
        "import nltk"
      ]
    },
    {
      "cell_type": "code",
      "source": [
        "import spacy"
      ],
      "metadata": {
        "id": "mymtzRtY5IJw"
      },
      "execution_count": 16,
      "outputs": []
    },
    {
      "cell_type": "code",
      "source": [
        "import nltk\n",
        "nltk.download('punkt')"
      ],
      "metadata": {
        "colab": {
          "base_uri": "https://localhost:8080/"
        },
        "id": "Ywuk7Brd4Cjs",
        "outputId": "8ae4543e-5efe-44e1-94b2-77173e5a243b"
      },
      "execution_count": 17,
      "outputs": [
        {
          "output_type": "stream",
          "name": "stderr",
          "text": [
            "[nltk_data] Downloading package punkt to /root/nltk_data...\n",
            "[nltk_data]   Package punkt is already up-to-date!\n"
          ]
        },
        {
          "output_type": "execute_result",
          "data": {
            "text/plain": [
              "True"
            ]
          },
          "metadata": {},
          "execution_count": 17
        }
      ]
    },
    {
      "cell_type": "code",
      "source": [
        "import nltk\n",
        "nltk.download('averaged_perceptron_tagger')"
      ],
      "metadata": {
        "colab": {
          "base_uri": "https://localhost:8080/"
        },
        "id": "MUnmznfx4HYW",
        "outputId": "7350ed00-d4ff-46cf-e727-e97baeea90f6"
      },
      "execution_count": 18,
      "outputs": [
        {
          "output_type": "stream",
          "name": "stderr",
          "text": [
            "[nltk_data] Downloading package averaged_perceptron_tagger to\n",
            "[nltk_data]     /root/nltk_data...\n",
            "[nltk_data]   Package averaged_perceptron_tagger is already up-to-\n",
            "[nltk_data]       date!\n"
          ]
        },
        {
          "output_type": "execute_result",
          "data": {
            "text/plain": [
              "True"
            ]
          },
          "metadata": {},
          "execution_count": 18
        }
      ]
    },
    {
      "cell_type": "code",
      "source": [
        "import json"
      ],
      "metadata": {
        "id": "fiEaA34n3wHM"
      },
      "execution_count": 19,
      "outputs": []
    },
    {
      "cell_type": "code",
      "source": [
        "def analyze_grammar(text):\n",
        "    grammar = nltk.CFG.fromstring(\"\"\"\n",
        "        S -> NP VP\n",
        "        NP -> Det N | Det N PP | 'I'\n",
        "        VP -> V NP | VP PP\n",
        "        PP -> P NP\n",
        "        Det -> 'an' | 'a' | 'the' | 'my'\n",
        "        N -> 'elephant' | 'pajamas' | 'cat' | 'park' | 'dog'\n",
        "        V -> 'shot' | 'saw' | 'chased' | 'is' | 'was'\n",
        "        P -> 'in' | 'on' | 'by' | 'with'\n",
        "    \"\"\")\n",
        "\n",
        "    tokens = nltk.word_tokenize(text)\n",
        "    parser = nltk.ChartParser(grammar)\n",
        "\n",
        "    try:\n",
        "        parse_tree = next(parser.parse(tokens))\n",
        "        result = {'status': 'success', 'message': 'The input text is grammatically correct.'}\n",
        "    except ValueError as e:\n",
        "        result = {'status': 'error', 'message': str(e)}\n",
        "    \n",
        "    return json.dumps(result)"
      ],
      "metadata": {
        "id": "VM3i3m5m5hcU"
      },
      "execution_count": 20,
      "outputs": []
    },
    {
      "cell_type": "code",
      "source": [
        "print(analyze_grammar(\"The cat chased a elefaat.\")) # {\"status\": \"error\", \"message\": \"(S (NP (Det The) (N cat)) (VP (V chased) (NP (Det a) (N elefant))))\"}"
      ],
      "metadata": {
        "colab": {
          "base_uri": "https://localhost:8080/"
        },
        "id": "aLENy2Fq58WS",
        "outputId": "e9e6203c-2025-4cac-a01e-51b8a733731b"
      },
      "execution_count": 23,
      "outputs": [
        {
          "output_type": "stream",
          "name": "stdout",
          "text": [
            "{\"status\": \"error\", \"message\": \"Grammar does not cover some of the input words: \\\"'The', 'elefaat', '.'\\\".\"}\n"
          ]
        }
      ]
    },
    {
      "cell_type": "code",
      "source": [],
      "metadata": {
        "id": "9CdS9RGI6IhJ"
      },
      "execution_count": null,
      "outputs": []
    }
  ]
}