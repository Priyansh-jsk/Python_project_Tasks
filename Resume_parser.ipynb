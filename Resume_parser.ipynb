{
  "nbformat": 4,
  "nbformat_minor": 0,
  "metadata": {
    "colab": {
      "provenance": []
    },
    "kernelspec": {
      "name": "python3",
      "display_name": "Python 3"
    },
    "language_info": {
      "name": "python"
    }
  },
  "cells": [
    {
      "cell_type": "code",
      "execution_count": 2,
      "metadata": {
        "colab": {
          "base_uri": "https://localhost:8080/",
          "height": 562
        },
        "id": "1uI7bFe5WZGi",
        "outputId": "91b59966-57bf-4c84-8e5a-11d2344ec523"
      },
      "outputs": [
        {
          "output_type": "stream",
          "name": "stdout",
          "text": [
            "Looking in indexes: https://pypi.org/simple, https://us-python.pkg.dev/colab-wheels/public/simple/\n",
            "Collecting pdfplumber\n",
            "  Downloading pdfplumber-0.8.0-py3-none-any.whl (43 kB)\n",
            "\u001b[2K     \u001b[90m━━━━━━━━━━━━━━━━━━━━━━━━━━━━━━━━━━━━━━━━\u001b[0m \u001b[32m43.7/43.7 KB\u001b[0m \u001b[31m1.5 MB/s\u001b[0m eta \u001b[36m0:00:00\u001b[0m\n",
            "\u001b[?25hCollecting pdfminer.six==20221105\n",
            "  Downloading pdfminer.six-20221105-py3-none-any.whl (5.6 MB)\n",
            "\u001b[2K     \u001b[90m━━━━━━━━━━━━━━━━━━━━━━━━━━━━━━━━━━━━━━━━\u001b[0m \u001b[32m5.6/5.6 MB\u001b[0m \u001b[31m51.2 MB/s\u001b[0m eta \u001b[36m0:00:00\u001b[0m\n",
            "\u001b[?25hCollecting Pillow>=9.1\n",
            "  Downloading Pillow-9.4.0-cp38-cp38-manylinux_2_28_x86_64.whl (3.4 MB)\n",
            "\u001b[2K     \u001b[90m━━━━━━━━━━━━━━━━━━━━━━━━━━━━━━━━━━━━━━━━\u001b[0m \u001b[32m3.4/3.4 MB\u001b[0m \u001b[31m59.4 MB/s\u001b[0m eta \u001b[36m0:00:00\u001b[0m\n",
            "\u001b[?25hCollecting Wand>=0.6.10\n",
            "  Downloading Wand-0.6.11-py2.py3-none-any.whl (143 kB)\n",
            "\u001b[2K     \u001b[90m━━━━━━━━━━━━━━━━━━━━━━━━━━━━━━━━━━━━━━\u001b[0m \u001b[32m143.6/143.6 KB\u001b[0m \u001b[31m13.9 MB/s\u001b[0m eta \u001b[36m0:00:00\u001b[0m\n",
            "\u001b[?25hRequirement already satisfied: charset-normalizer>=2.0.0 in /usr/local/lib/python3.8/dist-packages (from pdfminer.six==20221105->pdfplumber) (3.0.1)\n",
            "Collecting cryptography>=36.0.0\n",
            "  Downloading cryptography-39.0.1-cp36-abi3-manylinux_2_28_x86_64.whl (4.2 MB)\n",
            "\u001b[2K     \u001b[90m━━━━━━━━━━━━━━━━━━━━━━━━━━━━━━━━━━━━━━━━\u001b[0m \u001b[32m4.2/4.2 MB\u001b[0m \u001b[31m57.7 MB/s\u001b[0m eta \u001b[36m0:00:00\u001b[0m\n",
            "\u001b[?25hRequirement already satisfied: cffi>=1.12 in /usr/local/lib/python3.8/dist-packages (from cryptography>=36.0.0->pdfminer.six==20221105->pdfplumber) (1.15.1)\n",
            "Requirement already satisfied: pycparser in /usr/local/lib/python3.8/dist-packages (from cffi>=1.12->cryptography>=36.0.0->pdfminer.six==20221105->pdfplumber) (2.21)\n",
            "Installing collected packages: Wand, Pillow, cryptography, pdfminer.six, pdfplumber\n",
            "  Attempting uninstall: Pillow\n",
            "    Found existing installation: Pillow 7.1.2\n",
            "    Uninstalling Pillow-7.1.2:\n",
            "      Successfully uninstalled Pillow-7.1.2\n",
            "Successfully installed Pillow-9.4.0 Wand-0.6.11 cryptography-39.0.1 pdfminer.six-20221105 pdfplumber-0.8.0\n"
          ]
        },
        {
          "output_type": "display_data",
          "data": {
            "application/vnd.colab-display-data+json": {
              "pip_warning": {
                "packages": [
                  "PIL"
                ]
              }
            }
          },
          "metadata": {}
        }
      ],
      "source": [
        "!pip install pdfplumber"
      ]
    },
    {
      "cell_type": "code",
      "source": [
        "import pdfplumber"
      ],
      "metadata": {
        "id": "6QcqflO5WmYU"
      },
      "execution_count": 3,
      "outputs": []
    },
    {
      "cell_type": "code",
      "source": [
        "import json"
      ],
      "metadata": {
        "id": "yaEjOr6aXc7k"
      },
      "execution_count": 4,
      "outputs": []
    },
    {
      "cell_type": "code",
      "source": [
        "import re"
      ],
      "metadata": {
        "id": "nCsPnHzzXpxu"
      },
      "execution_count": 5,
      "outputs": []
    },
    {
      "cell_type": "code",
      "source": [
        "def parse_resume(file):\n",
        "    with pdfplumber.open(file) as pdf:\n",
        "        page = pdf.pages[0]\n",
        "        text = page.extract_text()\n",
        "\n",
        "    name = None\n",
        "    email = None\n",
        "    phone = None\n",
        "    education = []\n",
        "    work_experience = []\n",
        "\n",
        "    # Name\n",
        "    name_regex = r'^[A-Z][a-z]+\\s+[A-Z][a-z]+$'\n",
        "    name_match = re.search(name_regex, text)\n",
        "    if name_match:\n",
        "        name = name_match.group()\n",
        "\n",
        "    # Email\n",
        "    email_regex = r'\\b[A-Za-z0-9._%+-]+@[A-Za-z0-9.-]+\\.[A-Z|a-z]{2,}\\b'\n",
        "    email_match = re.search(email_regex, text)\n",
        "    if email_match:\n",
        "        email = email_match.group()\n",
        "\n",
        "    # phone number\n",
        "    phone_regex = r'\\(?\\d{3}\\)?[-.\\s]?\\d{3}[-.\\s]?\\d{4}'\n",
        "    phone_match = re.search(phone_regex, text)\n",
        "    if phone_match:\n",
        "        phone = phone_match.group()\n",
        "\n",
        "    # education\n",
        "    education_regex = r'((?:Bachelor|Master|PhD)\\s+of\\s+[A-Za-z\\s]+(?:\\s+in\\s+[A-Za-z\\s]+)?)\\s*(\\d{4})\\s*-?\\s*(\\d{4})?'\n",
        "    for education_match in re.finditer(education_regex, text):\n",
        "        degree, start_year, end_year = education_match.groups()\n",
        "        education.append({'degree': degree, 'start_year': start_year, 'end_year': end_year})\n",
        "\n",
        "    # work experience\n",
        "    work_experience_regex = r'([A-Za-z\\s]+)\\s*-\\s*([A-Za-z\\s]+)?\\s*\\n\\s*(?:([A-Za-z\\s]+)\\s*\\n)?\\s*([A-Za-z]{3,}\\s+\\d{4})\\s*-\\s*([A-Za-z]{3,}\\s+\\d{4})\\s*\\n\\s*([A-Za-z\\s,]+)?'\n",
        "    for work_experience_match in re.finditer(work_experience_regex, text):\n",
        "        company, title, location, start_date, end_date, description = work_experience_match.groups()\n",
        "        work_experience.append({'company': company, 'title': title, 'location': location, 'start_date': start_date, 'end_date': end_date, 'description': description})\n",
        "\n",
        "    # create JSON\n",
        "    resume_data = {\n",
        "        'name': name,\n",
        "        'email': email,\n",
        "        'phone': phone,\n",
        "        'education': education,\n",
        "        'work_experience': work_experience\n",
        "    }\n",
        "\n",
        "    return json.dumps(resume_data)"
      ],
      "metadata": {
        "id": "cj0wTlhtWyti"
      },
      "execution_count": 6,
      "outputs": []
    },
    {
      "cell_type": "code",
      "source": [
        "# print(parse_resume('/content/Elementary Education Teacher Resume.pdf'))"
      ],
      "metadata": {
        "id": "5jRa8TYdWykl"
      },
      "execution_count": 1,
      "outputs": []
    },
    {
      "cell_type": "code",
      "source": [],
      "metadata": {
        "id": "TFesoxT3XIZ-"
      },
      "execution_count": null,
      "outputs": []
    }
  ]
}